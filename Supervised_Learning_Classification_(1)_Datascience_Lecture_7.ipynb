{
  "nbformat": 4,
  "nbformat_minor": 0,
  "metadata": {
    "colab": {
      "provenance": [],
      "include_colab_link": true
    },
    "kernelspec": {
      "name": "python3",
      "display_name": "Python 3"
    },
    "language_info": {
      "name": "python"
    }
  },
  "cells": [
    {
      "cell_type": "markdown",
      "metadata": {
        "id": "view-in-github",
        "colab_type": "text"
      },
      "source": [
        "<a href=\"https://colab.research.google.com/github/Yonah-Tech/DATA-SCIENCE-UICT-AUGUST-2025/blob/main/Supervised_Learning_Classification_(1)_Datascience_Lecture_7.ipynb\" target=\"_parent\"><img src=\"https://colab.research.google.com/assets/colab-badge.svg\" alt=\"Open In Colab\"/></a>"
      ]
    },
    {
      "cell_type": "markdown",
      "source": [
        "**Supervised Learning (Classification Algorithm)**"
      ],
      "metadata": {
        "id": "eDlXzkhBZ5y_"
      }
    },
    {
      "cell_type": "code",
      "source": [
        "import pandas as pd\n",
        "import numpy as np\n",
        "import matplotlib.pyplot as plt\n",
        "import seaborn as sns"
      ],
      "metadata": {
        "id": "acsXosfRperm"
      },
      "execution_count": 1,
      "outputs": []
    },
    {
      "cell_type": "code",
      "source": [
        "import google.colab.files as files\n",
        "uploaded = files.upload()"
      ],
      "metadata": {
        "id": "UNRfRSZ2Z8Gk",
        "colab": {
          "base_uri": "https://localhost:8080/",
          "height": 73
        },
        "outputId": "fef0ef3a-fe7d-4f2f-e0a7-ec2ee71321af"
      },
      "execution_count": 2,
      "outputs": [
        {
          "output_type": "display_data",
          "data": {
            "text/plain": [
              "<IPython.core.display.HTML object>"
            ],
            "text/html": [
              "\n",
              "     <input type=\"file\" id=\"files-0d4f7137-debe-43ff-a60f-aea50d37ac94\" name=\"files[]\" multiple disabled\n",
              "        style=\"border:none\" />\n",
              "     <output id=\"result-0d4f7137-debe-43ff-a60f-aea50d37ac94\">\n",
              "      Upload widget is only available when the cell has been executed in the\n",
              "      current browser session. Please rerun this cell to enable.\n",
              "      </output>\n",
              "      <script>// Copyright 2017 Google LLC\n",
              "//\n",
              "// Licensed under the Apache License, Version 2.0 (the \"License\");\n",
              "// you may not use this file except in compliance with the License.\n",
              "// You may obtain a copy of the License at\n",
              "//\n",
              "//      http://www.apache.org/licenses/LICENSE-2.0\n",
              "//\n",
              "// Unless required by applicable law or agreed to in writing, software\n",
              "// distributed under the License is distributed on an \"AS IS\" BASIS,\n",
              "// WITHOUT WARRANTIES OR CONDITIONS OF ANY KIND, either express or implied.\n",
              "// See the License for the specific language governing permissions and\n",
              "// limitations under the License.\n",
              "\n",
              "/**\n",
              " * @fileoverview Helpers for google.colab Python module.\n",
              " */\n",
              "(function(scope) {\n",
              "function span(text, styleAttributes = {}) {\n",
              "  const element = document.createElement('span');\n",
              "  element.textContent = text;\n",
              "  for (const key of Object.keys(styleAttributes)) {\n",
              "    element.style[key] = styleAttributes[key];\n",
              "  }\n",
              "  return element;\n",
              "}\n",
              "\n",
              "// Max number of bytes which will be uploaded at a time.\n",
              "const MAX_PAYLOAD_SIZE = 100 * 1024;\n",
              "\n",
              "function _uploadFiles(inputId, outputId) {\n",
              "  const steps = uploadFilesStep(inputId, outputId);\n",
              "  const outputElement = document.getElementById(outputId);\n",
              "  // Cache steps on the outputElement to make it available for the next call\n",
              "  // to uploadFilesContinue from Python.\n",
              "  outputElement.steps = steps;\n",
              "\n",
              "  return _uploadFilesContinue(outputId);\n",
              "}\n",
              "\n",
              "// This is roughly an async generator (not supported in the browser yet),\n",
              "// where there are multiple asynchronous steps and the Python side is going\n",
              "// to poll for completion of each step.\n",
              "// This uses a Promise to block the python side on completion of each step,\n",
              "// then passes the result of the previous step as the input to the next step.\n",
              "function _uploadFilesContinue(outputId) {\n",
              "  const outputElement = document.getElementById(outputId);\n",
              "  const steps = outputElement.steps;\n",
              "\n",
              "  const next = steps.next(outputElement.lastPromiseValue);\n",
              "  return Promise.resolve(next.value.promise).then((value) => {\n",
              "    // Cache the last promise value to make it available to the next\n",
              "    // step of the generator.\n",
              "    outputElement.lastPromiseValue = value;\n",
              "    return next.value.response;\n",
              "  });\n",
              "}\n",
              "\n",
              "/**\n",
              " * Generator function which is called between each async step of the upload\n",
              " * process.\n",
              " * @param {string} inputId Element ID of the input file picker element.\n",
              " * @param {string} outputId Element ID of the output display.\n",
              " * @return {!Iterable<!Object>} Iterable of next steps.\n",
              " */\n",
              "function* uploadFilesStep(inputId, outputId) {\n",
              "  const inputElement = document.getElementById(inputId);\n",
              "  inputElement.disabled = false;\n",
              "\n",
              "  const outputElement = document.getElementById(outputId);\n",
              "  outputElement.innerHTML = '';\n",
              "\n",
              "  const pickedPromise = new Promise((resolve) => {\n",
              "    inputElement.addEventListener('change', (e) => {\n",
              "      resolve(e.target.files);\n",
              "    });\n",
              "  });\n",
              "\n",
              "  const cancel = document.createElement('button');\n",
              "  inputElement.parentElement.appendChild(cancel);\n",
              "  cancel.textContent = 'Cancel upload';\n",
              "  const cancelPromise = new Promise((resolve) => {\n",
              "    cancel.onclick = () => {\n",
              "      resolve(null);\n",
              "    };\n",
              "  });\n",
              "\n",
              "  // Wait for the user to pick the files.\n",
              "  const files = yield {\n",
              "    promise: Promise.race([pickedPromise, cancelPromise]),\n",
              "    response: {\n",
              "      action: 'starting',\n",
              "    }\n",
              "  };\n",
              "\n",
              "  cancel.remove();\n",
              "\n",
              "  // Disable the input element since further picks are not allowed.\n",
              "  inputElement.disabled = true;\n",
              "\n",
              "  if (!files) {\n",
              "    return {\n",
              "      response: {\n",
              "        action: 'complete',\n",
              "      }\n",
              "    };\n",
              "  }\n",
              "\n",
              "  for (const file of files) {\n",
              "    const li = document.createElement('li');\n",
              "    li.append(span(file.name, {fontWeight: 'bold'}));\n",
              "    li.append(span(\n",
              "        `(${file.type || 'n/a'}) - ${file.size} bytes, ` +\n",
              "        `last modified: ${\n",
              "            file.lastModifiedDate ? file.lastModifiedDate.toLocaleDateString() :\n",
              "                                    'n/a'} - `));\n",
              "    const percent = span('0% done');\n",
              "    li.appendChild(percent);\n",
              "\n",
              "    outputElement.appendChild(li);\n",
              "\n",
              "    const fileDataPromise = new Promise((resolve) => {\n",
              "      const reader = new FileReader();\n",
              "      reader.onload = (e) => {\n",
              "        resolve(e.target.result);\n",
              "      };\n",
              "      reader.readAsArrayBuffer(file);\n",
              "    });\n",
              "    // Wait for the data to be ready.\n",
              "    let fileData = yield {\n",
              "      promise: fileDataPromise,\n",
              "      response: {\n",
              "        action: 'continue',\n",
              "      }\n",
              "    };\n",
              "\n",
              "    // Use a chunked sending to avoid message size limits. See b/62115660.\n",
              "    let position = 0;\n",
              "    do {\n",
              "      const length = Math.min(fileData.byteLength - position, MAX_PAYLOAD_SIZE);\n",
              "      const chunk = new Uint8Array(fileData, position, length);\n",
              "      position += length;\n",
              "\n",
              "      const base64 = btoa(String.fromCharCode.apply(null, chunk));\n",
              "      yield {\n",
              "        response: {\n",
              "          action: 'append',\n",
              "          file: file.name,\n",
              "          data: base64,\n",
              "        },\n",
              "      };\n",
              "\n",
              "      let percentDone = fileData.byteLength === 0 ?\n",
              "          100 :\n",
              "          Math.round((position / fileData.byteLength) * 100);\n",
              "      percent.textContent = `${percentDone}% done`;\n",
              "\n",
              "    } while (position < fileData.byteLength);\n",
              "  }\n",
              "\n",
              "  // All done.\n",
              "  yield {\n",
              "    response: {\n",
              "      action: 'complete',\n",
              "    }\n",
              "  };\n",
              "}\n",
              "\n",
              "scope.google = scope.google || {};\n",
              "scope.google.colab = scope.google.colab || {};\n",
              "scope.google.colab._files = {\n",
              "  _uploadFiles,\n",
              "  _uploadFilesContinue,\n",
              "};\n",
              "})(self);\n",
              "</script> "
            ]
          },
          "metadata": {}
        },
        {
          "output_type": "stream",
          "name": "stdout",
          "text": [
            "Saving Cars_Sale.csv to Cars_Sale.csv\n"
          ]
        }
      ]
    },
    {
      "cell_type": "code",
      "source": [
        "cars = pd.read_csv('Cars_Sale.csv')\n",
        "cars.head()"
      ],
      "metadata": {
        "id": "CHV1BpVHpVi8",
        "colab": {
          "base_uri": "https://localhost:8080/",
          "height": 206
        },
        "outputId": "2ba9fc72-bebe-4937-ff3b-6e559fa291e9"
      },
      "execution_count": 3,
      "outputs": [
        {
          "output_type": "execute_result",
          "data": {
            "text/plain": [
              "   Car_ID   Make    Model  Year  Price ($)  Mileage (km) Fuel Type  \\\n",
              "0    1001  Mazda   Mazda3  2013    32935.2        105354    Petrol   \n",
              "1    1002    Kia  Sorento  2015    23799.4         94113    Petrol   \n",
              "2    1003   Ford    Focus  2023    21786.0        211800    Diesel   \n",
              "3    1004  Mazda     CX-5  2023    36836.8         40731    Diesel   \n",
              "4    1005  Mazda     CX-5  2016    34722.6         68542  Electric   \n",
              "\n",
              "  Transmission Owner History Sold (Yes/No)  \n",
              "0       Manual   First Owner            No  \n",
              "1    Automatic  Second Owner            No  \n",
              "2       Manual   First Owner            No  \n",
              "3    Automatic   First Owner           Yes  \n",
              "4       Manual   Third Owner           Yes  "
            ],
            "text/html": [
              "\n",
              "  <div id=\"df-22b4960c-2b3a-4a2f-b33b-eaa461cf2fb8\" class=\"colab-df-container\">\n",
              "    <div>\n",
              "<style scoped>\n",
              "    .dataframe tbody tr th:only-of-type {\n",
              "        vertical-align: middle;\n",
              "    }\n",
              "\n",
              "    .dataframe tbody tr th {\n",
              "        vertical-align: top;\n",
              "    }\n",
              "\n",
              "    .dataframe thead th {\n",
              "        text-align: right;\n",
              "    }\n",
              "</style>\n",
              "<table border=\"1\" class=\"dataframe\">\n",
              "  <thead>\n",
              "    <tr style=\"text-align: right;\">\n",
              "      <th></th>\n",
              "      <th>Car_ID</th>\n",
              "      <th>Make</th>\n",
              "      <th>Model</th>\n",
              "      <th>Year</th>\n",
              "      <th>Price ($)</th>\n",
              "      <th>Mileage (km)</th>\n",
              "      <th>Fuel Type</th>\n",
              "      <th>Transmission</th>\n",
              "      <th>Owner History</th>\n",
              "      <th>Sold (Yes/No)</th>\n",
              "    </tr>\n",
              "  </thead>\n",
              "  <tbody>\n",
              "    <tr>\n",
              "      <th>0</th>\n",
              "      <td>1001</td>\n",
              "      <td>Mazda</td>\n",
              "      <td>Mazda3</td>\n",
              "      <td>2013</td>\n",
              "      <td>32935.2</td>\n",
              "      <td>105354</td>\n",
              "      <td>Petrol</td>\n",
              "      <td>Manual</td>\n",
              "      <td>First Owner</td>\n",
              "      <td>No</td>\n",
              "    </tr>\n",
              "    <tr>\n",
              "      <th>1</th>\n",
              "      <td>1002</td>\n",
              "      <td>Kia</td>\n",
              "      <td>Sorento</td>\n",
              "      <td>2015</td>\n",
              "      <td>23799.4</td>\n",
              "      <td>94113</td>\n",
              "      <td>Petrol</td>\n",
              "      <td>Automatic</td>\n",
              "      <td>Second Owner</td>\n",
              "      <td>No</td>\n",
              "    </tr>\n",
              "    <tr>\n",
              "      <th>2</th>\n",
              "      <td>1003</td>\n",
              "      <td>Ford</td>\n",
              "      <td>Focus</td>\n",
              "      <td>2023</td>\n",
              "      <td>21786.0</td>\n",
              "      <td>211800</td>\n",
              "      <td>Diesel</td>\n",
              "      <td>Manual</td>\n",
              "      <td>First Owner</td>\n",
              "      <td>No</td>\n",
              "    </tr>\n",
              "    <tr>\n",
              "      <th>3</th>\n",
              "      <td>1004</td>\n",
              "      <td>Mazda</td>\n",
              "      <td>CX-5</td>\n",
              "      <td>2023</td>\n",
              "      <td>36836.8</td>\n",
              "      <td>40731</td>\n",
              "      <td>Diesel</td>\n",
              "      <td>Automatic</td>\n",
              "      <td>First Owner</td>\n",
              "      <td>Yes</td>\n",
              "    </tr>\n",
              "    <tr>\n",
              "      <th>4</th>\n",
              "      <td>1005</td>\n",
              "      <td>Mazda</td>\n",
              "      <td>CX-5</td>\n",
              "      <td>2016</td>\n",
              "      <td>34722.6</td>\n",
              "      <td>68542</td>\n",
              "      <td>Electric</td>\n",
              "      <td>Manual</td>\n",
              "      <td>Third Owner</td>\n",
              "      <td>Yes</td>\n",
              "    </tr>\n",
              "  </tbody>\n",
              "</table>\n",
              "</div>\n",
              "    <div class=\"colab-df-buttons\">\n",
              "\n",
              "  <div class=\"colab-df-container\">\n",
              "    <button class=\"colab-df-convert\" onclick=\"convertToInteractive('df-22b4960c-2b3a-4a2f-b33b-eaa461cf2fb8')\"\n",
              "            title=\"Convert this dataframe to an interactive table.\"\n",
              "            style=\"display:none;\">\n",
              "\n",
              "  <svg xmlns=\"http://www.w3.org/2000/svg\" height=\"24px\" viewBox=\"0 -960 960 960\">\n",
              "    <path d=\"M120-120v-720h720v720H120Zm60-500h600v-160H180v160Zm220 220h160v-160H400v160Zm0 220h160v-160H400v160ZM180-400h160v-160H180v160Zm440 0h160v-160H620v160ZM180-180h160v-160H180v160Zm440 0h160v-160H620v160Z\"/>\n",
              "  </svg>\n",
              "    </button>\n",
              "\n",
              "  <style>\n",
              "    .colab-df-container {\n",
              "      display:flex;\n",
              "      gap: 12px;\n",
              "    }\n",
              "\n",
              "    .colab-df-convert {\n",
              "      background-color: #E8F0FE;\n",
              "      border: none;\n",
              "      border-radius: 50%;\n",
              "      cursor: pointer;\n",
              "      display: none;\n",
              "      fill: #1967D2;\n",
              "      height: 32px;\n",
              "      padding: 0 0 0 0;\n",
              "      width: 32px;\n",
              "    }\n",
              "\n",
              "    .colab-df-convert:hover {\n",
              "      background-color: #E2EBFA;\n",
              "      box-shadow: 0px 1px 2px rgba(60, 64, 67, 0.3), 0px 1px 3px 1px rgba(60, 64, 67, 0.15);\n",
              "      fill: #174EA6;\n",
              "    }\n",
              "\n",
              "    .colab-df-buttons div {\n",
              "      margin-bottom: 4px;\n",
              "    }\n",
              "\n",
              "    [theme=dark] .colab-df-convert {\n",
              "      background-color: #3B4455;\n",
              "      fill: #D2E3FC;\n",
              "    }\n",
              "\n",
              "    [theme=dark] .colab-df-convert:hover {\n",
              "      background-color: #434B5C;\n",
              "      box-shadow: 0px 1px 3px 1px rgba(0, 0, 0, 0.15);\n",
              "      filter: drop-shadow(0px 1px 2px rgba(0, 0, 0, 0.3));\n",
              "      fill: #FFFFFF;\n",
              "    }\n",
              "  </style>\n",
              "\n",
              "    <script>\n",
              "      const buttonEl =\n",
              "        document.querySelector('#df-22b4960c-2b3a-4a2f-b33b-eaa461cf2fb8 button.colab-df-convert');\n",
              "      buttonEl.style.display =\n",
              "        google.colab.kernel.accessAllowed ? 'block' : 'none';\n",
              "\n",
              "      async function convertToInteractive(key) {\n",
              "        const element = document.querySelector('#df-22b4960c-2b3a-4a2f-b33b-eaa461cf2fb8');\n",
              "        const dataTable =\n",
              "          await google.colab.kernel.invokeFunction('convertToInteractive',\n",
              "                                                    [key], {});\n",
              "        if (!dataTable) return;\n",
              "\n",
              "        const docLinkHtml = 'Like what you see? Visit the ' +\n",
              "          '<a target=\"_blank\" href=https://colab.research.google.com/notebooks/data_table.ipynb>data table notebook</a>'\n",
              "          + ' to learn more about interactive tables.';\n",
              "        element.innerHTML = '';\n",
              "        dataTable['output_type'] = 'display_data';\n",
              "        await google.colab.output.renderOutput(dataTable, element);\n",
              "        const docLink = document.createElement('div');\n",
              "        docLink.innerHTML = docLinkHtml;\n",
              "        element.appendChild(docLink);\n",
              "      }\n",
              "    </script>\n",
              "  </div>\n",
              "\n",
              "\n",
              "    <div id=\"df-d4051f0b-1df0-4059-a475-87c0b6dcf74e\">\n",
              "      <button class=\"colab-df-quickchart\" onclick=\"quickchart('df-d4051f0b-1df0-4059-a475-87c0b6dcf74e')\"\n",
              "                title=\"Suggest charts\"\n",
              "                style=\"display:none;\">\n",
              "\n",
              "<svg xmlns=\"http://www.w3.org/2000/svg\" height=\"24px\"viewBox=\"0 0 24 24\"\n",
              "     width=\"24px\">\n",
              "    <g>\n",
              "        <path d=\"M19 3H5c-1.1 0-2 .9-2 2v14c0 1.1.9 2 2 2h14c1.1 0 2-.9 2-2V5c0-1.1-.9-2-2-2zM9 17H7v-7h2v7zm4 0h-2V7h2v10zm4 0h-2v-4h2v4z\"/>\n",
              "    </g>\n",
              "</svg>\n",
              "      </button>\n",
              "\n",
              "<style>\n",
              "  .colab-df-quickchart {\n",
              "      --bg-color: #E8F0FE;\n",
              "      --fill-color: #1967D2;\n",
              "      --hover-bg-color: #E2EBFA;\n",
              "      --hover-fill-color: #174EA6;\n",
              "      --disabled-fill-color: #AAA;\n",
              "      --disabled-bg-color: #DDD;\n",
              "  }\n",
              "\n",
              "  [theme=dark] .colab-df-quickchart {\n",
              "      --bg-color: #3B4455;\n",
              "      --fill-color: #D2E3FC;\n",
              "      --hover-bg-color: #434B5C;\n",
              "      --hover-fill-color: #FFFFFF;\n",
              "      --disabled-bg-color: #3B4455;\n",
              "      --disabled-fill-color: #666;\n",
              "  }\n",
              "\n",
              "  .colab-df-quickchart {\n",
              "    background-color: var(--bg-color);\n",
              "    border: none;\n",
              "    border-radius: 50%;\n",
              "    cursor: pointer;\n",
              "    display: none;\n",
              "    fill: var(--fill-color);\n",
              "    height: 32px;\n",
              "    padding: 0;\n",
              "    width: 32px;\n",
              "  }\n",
              "\n",
              "  .colab-df-quickchart:hover {\n",
              "    background-color: var(--hover-bg-color);\n",
              "    box-shadow: 0 1px 2px rgba(60, 64, 67, 0.3), 0 1px 3px 1px rgba(60, 64, 67, 0.15);\n",
              "    fill: var(--button-hover-fill-color);\n",
              "  }\n",
              "\n",
              "  .colab-df-quickchart-complete:disabled,\n",
              "  .colab-df-quickchart-complete:disabled:hover {\n",
              "    background-color: var(--disabled-bg-color);\n",
              "    fill: var(--disabled-fill-color);\n",
              "    box-shadow: none;\n",
              "  }\n",
              "\n",
              "  .colab-df-spinner {\n",
              "    border: 2px solid var(--fill-color);\n",
              "    border-color: transparent;\n",
              "    border-bottom-color: var(--fill-color);\n",
              "    animation:\n",
              "      spin 1s steps(1) infinite;\n",
              "  }\n",
              "\n",
              "  @keyframes spin {\n",
              "    0% {\n",
              "      border-color: transparent;\n",
              "      border-bottom-color: var(--fill-color);\n",
              "      border-left-color: var(--fill-color);\n",
              "    }\n",
              "    20% {\n",
              "      border-color: transparent;\n",
              "      border-left-color: var(--fill-color);\n",
              "      border-top-color: var(--fill-color);\n",
              "    }\n",
              "    30% {\n",
              "      border-color: transparent;\n",
              "      border-left-color: var(--fill-color);\n",
              "      border-top-color: var(--fill-color);\n",
              "      border-right-color: var(--fill-color);\n",
              "    }\n",
              "    40% {\n",
              "      border-color: transparent;\n",
              "      border-right-color: var(--fill-color);\n",
              "      border-top-color: var(--fill-color);\n",
              "    }\n",
              "    60% {\n",
              "      border-color: transparent;\n",
              "      border-right-color: var(--fill-color);\n",
              "    }\n",
              "    80% {\n",
              "      border-color: transparent;\n",
              "      border-right-color: var(--fill-color);\n",
              "      border-bottom-color: var(--fill-color);\n",
              "    }\n",
              "    90% {\n",
              "      border-color: transparent;\n",
              "      border-bottom-color: var(--fill-color);\n",
              "    }\n",
              "  }\n",
              "</style>\n",
              "\n",
              "      <script>\n",
              "        async function quickchart(key) {\n",
              "          const quickchartButtonEl =\n",
              "            document.querySelector('#' + key + ' button');\n",
              "          quickchartButtonEl.disabled = true;  // To prevent multiple clicks.\n",
              "          quickchartButtonEl.classList.add('colab-df-spinner');\n",
              "          try {\n",
              "            const charts = await google.colab.kernel.invokeFunction(\n",
              "                'suggestCharts', [key], {});\n",
              "          } catch (error) {\n",
              "            console.error('Error during call to suggestCharts:', error);\n",
              "          }\n",
              "          quickchartButtonEl.classList.remove('colab-df-spinner');\n",
              "          quickchartButtonEl.classList.add('colab-df-quickchart-complete');\n",
              "        }\n",
              "        (() => {\n",
              "          let quickchartButtonEl =\n",
              "            document.querySelector('#df-d4051f0b-1df0-4059-a475-87c0b6dcf74e button');\n",
              "          quickchartButtonEl.style.display =\n",
              "            google.colab.kernel.accessAllowed ? 'block' : 'none';\n",
              "        })();\n",
              "      </script>\n",
              "    </div>\n",
              "\n",
              "    </div>\n",
              "  </div>\n"
            ],
            "application/vnd.google.colaboratory.intrinsic+json": {
              "type": "dataframe",
              "variable_name": "cars",
              "summary": "{\n  \"name\": \"cars\",\n  \"rows\": 233,\n  \"fields\": [\n    {\n      \"column\": \"Car_ID\",\n      \"properties\": {\n        \"dtype\": \"number\",\n        \"std\": 59,\n        \"min\": 1001,\n        \"max\": 1200,\n        \"num_unique_values\": 200,\n        \"samples\": [\n          1096,\n          1016,\n          1031\n        ],\n        \"semantic_type\": \"\",\n        \"description\": \"\"\n      }\n    },\n    {\n      \"column\": \"Make\",\n      \"properties\": {\n        \"dtype\": \"category\",\n        \"num_unique_values\": 10,\n        \"samples\": [\n          \"Mercedes\",\n          \"Kia\",\n          \"Honda\"\n        ],\n        \"semantic_type\": \"\",\n        \"description\": \"\"\n      }\n    },\n    {\n      \"column\": \"Model\",\n      \"properties\": {\n        \"dtype\": \"category\",\n        \"num_unique_values\": 29,\n        \"samples\": [\n          \"Accord\",\n          \"GLA\",\n          \"Rogue\"\n        ],\n        \"semantic_type\": \"\",\n        \"description\": \"\"\n      }\n    },\n    {\n      \"column\": \"Year\",\n      \"properties\": {\n        \"dtype\": \"number\",\n        \"std\": 4,\n        \"min\": 2010,\n        \"max\": 2023,\n        \"num_unique_values\": 14,\n        \"samples\": [\n          2011,\n          2012,\n          2013\n        ],\n        \"semantic_type\": \"\",\n        \"description\": \"\"\n      }\n    },\n    {\n      \"column\": \"Price ($)\",\n      \"properties\": {\n        \"dtype\": \"number\",\n        \"std\": 11002.899428915794,\n        \"min\": 3894.2,\n        \"max\": 74234.4,\n        \"num_unique_values\": 225,\n        \"samples\": [\n          44184.8,\n          32756.0,\n          37094.2\n        ],\n        \"semantic_type\": \"\",\n        \"description\": \"\"\n      }\n    },\n    {\n      \"column\": \"Mileage (km)\",\n      \"properties\": {\n        \"dtype\": \"number\",\n        \"std\": 41951,\n        \"min\": 11653,\n        \"max\": 211800,\n        \"num_unique_values\": 203,\n        \"samples\": [\n          40106,\n          40411,\n          105140\n        ],\n        \"semantic_type\": \"\",\n        \"description\": \"\"\n      }\n    },\n    {\n      \"column\": \"Fuel Type\",\n      \"properties\": {\n        \"dtype\": \"category\",\n        \"num_unique_values\": 4,\n        \"samples\": [\n          \"Diesel\",\n          \"Hybrid\",\n          \"Petrol\"\n        ],\n        \"semantic_type\": \"\",\n        \"description\": \"\"\n      }\n    },\n    {\n      \"column\": \"Transmission\",\n      \"properties\": {\n        \"dtype\": \"category\",\n        \"num_unique_values\": 2,\n        \"samples\": [\n          \"Automatic\",\n          \"Manual\"\n        ],\n        \"semantic_type\": \"\",\n        \"description\": \"\"\n      }\n    },\n    {\n      \"column\": \"Owner History\",\n      \"properties\": {\n        \"dtype\": \"category\",\n        \"num_unique_values\": 3,\n        \"samples\": [\n          \"First Owner\",\n          \"Second Owner\"\n        ],\n        \"semantic_type\": \"\",\n        \"description\": \"\"\n      }\n    },\n    {\n      \"column\": \"Sold (Yes/No)\",\n      \"properties\": {\n        \"dtype\": \"category\",\n        \"num_unique_values\": 2,\n        \"samples\": [\n          \"Yes\",\n          \"No\"\n        ],\n        \"semantic_type\": \"\",\n        \"description\": \"\"\n      }\n    }\n  ]\n}"
            }
          },
          "metadata": {},
          "execution_count": 3
        }
      ]
    },
    {
      "cell_type": "code",
      "source": [
        "print(cars.info())"
      ],
      "metadata": {
        "id": "mlR-31PZwiYc",
        "colab": {
          "base_uri": "https://localhost:8080/"
        },
        "outputId": "388dd08d-1c64-4eed-837b-954e39a4eab7"
      },
      "execution_count": 4,
      "outputs": [
        {
          "output_type": "stream",
          "name": "stdout",
          "text": [
            "<class 'pandas.core.frame.DataFrame'>\n",
            "RangeIndex: 233 entries, 0 to 232\n",
            "Data columns (total 10 columns):\n",
            " #   Column         Non-Null Count  Dtype  \n",
            "---  ------         --------------  -----  \n",
            " 0   Car_ID         233 non-null    int64  \n",
            " 1   Make           233 non-null    object \n",
            " 2   Model          233 non-null    object \n",
            " 3   Year           233 non-null    int64  \n",
            " 4   Price ($)      233 non-null    float64\n",
            " 5   Mileage (km)   233 non-null    int64  \n",
            " 6   Fuel Type      233 non-null    object \n",
            " 7   Transmission   233 non-null    object \n",
            " 8   Owner History  233 non-null    object \n",
            " 9   Sold (Yes/No)  233 non-null    object \n",
            "dtypes: float64(1), int64(3), object(6)\n",
            "memory usage: 18.3+ KB\n",
            "None\n"
          ]
        }
      ]
    },
    {
      "cell_type": "code",
      "source": [
        "print(cars.describe())"
      ],
      "metadata": {
        "id": "k3CNIuNmwmRK",
        "colab": {
          "base_uri": "https://localhost:8080/"
        },
        "outputId": "f318efc1-4bbc-4996-e24f-0222f1d1d612"
      },
      "execution_count": 5,
      "outputs": [
        {
          "output_type": "stream",
          "name": "stdout",
          "text": [
            "            Car_ID         Year     Price ($)   Mileage (km)\n",
            "count   233.000000   233.000000    233.000000     233.000000\n",
            "mean   1090.888412  2016.077253  30667.817597   98226.690987\n",
            "std      59.432557     4.076113  11002.899429   41951.290137\n",
            "min    1001.000000  2010.000000   3894.200000   11653.000000\n",
            "25%    1037.000000  2013.000000  23070.400000   63383.000000\n",
            "50%    1086.000000  2016.000000  29077.000000   98627.000000\n",
            "75%    1142.000000  2019.000000  37653.800000  128888.000000\n",
            "max    1200.000000  2023.000000  74234.400000  211800.000000\n"
          ]
        }
      ]
    },
    {
      "cell_type": "markdown",
      "metadata": {
        "id": "06fbd425"
      },
      "source": [
        "Handle categorical features and potentially scale numerical features to prepare the data for modeling.\n",
        "\n",
        "Identify categorical and numerical columns, apply one-hot encoding to categorical features, scale numerical features using StandardScaler, and concatenate the processed features into a single DataFrame.\n"
      ]
    },
    {
      "cell_type": "code",
      "source": [
        "# Separate target variable and create a dummy variable sold\n",
        "y = cars['Sold (Yes/No)'].map({'Yes': 1, 'No': 0})\n",
        "\n",
        "#Drop car ID and target variable\n",
        "X = cars.drop(['Car_ID', 'Sold (Yes/No)'], axis=1)\n",
        "\n",
        "print(\"Target variable 'y' shape:\", y.shape)\n",
        "print(\"Feature matrix 'X' shape:\", X.shape)\n",
        "print(\"\\nClass distribution in target:\")\n",
        "print(y.value_counts())"
      ],
      "metadata": {
        "id": "9ywRayC1xQrA",
        "colab": {
          "base_uri": "https://localhost:8080/"
        },
        "outputId": "b1c37693-abc1-4c01-e555-4cd6943f533e"
      },
      "execution_count": 6,
      "outputs": [
        {
          "output_type": "stream",
          "name": "stdout",
          "text": [
            "Target variable 'y' shape: (233,)\n",
            "Feature matrix 'X' shape: (233, 8)\n",
            "\n",
            "Class distribution in target:\n",
            "Sold (Yes/No)\n",
            "1    119\n",
            "0    114\n",
            "Name: count, dtype: int64\n"
          ]
        }
      ]
    },
    {
      "cell_type": "markdown",
      "metadata": {
        "id": "35a77f3f"
      },
      "source": [
        "## Split data\n",
        "\n",
        "Split the data into training and testing sets for model training and evaluation.\n"
      ]
    },
    {
      "cell_type": "code",
      "source": [
        "#split the dataset into train and test data, before encoding or scaling to prevent data leakage\n",
        "from sklearn.model_selection import train_test_split\n",
        "\n",
        "X_train, X_test, y_train, y_test = train_test_split(X, y, test_size=0.2, random_state=42, stratify=y)\n",
        "\n",
        "print(\"Training set:\", X_train.shape)\n",
        "print(\"Testing set:\", X_test.shape)\n",
        "print(\"Training target:\", y_train.shape[0])\n",
        "print(\"Testing target:\", y_test.shape[0])"
      ],
      "metadata": {
        "id": "z-blJbx3afYe",
        "colab": {
          "base_uri": "https://localhost:8080/"
        },
        "outputId": "97e40974-e683-4df5-8a1b-c00bfcfa0b05"
      },
      "execution_count": 7,
      "outputs": [
        {
          "output_type": "stream",
          "name": "stdout",
          "text": [
            "Training set: (186, 8)\n",
            "Testing set: (47, 8)\n",
            "Training target: 186\n",
            "Testing target: 47\n"
          ]
        }
      ]
    },
    {
      "cell_type": "code",
      "metadata": {
        "id": "ipJ2s37PsjUg"
      },
      "source": [
        "#Preprocessing for numerical and categorical features\n",
        "#import sklearn libraries - for Machine learning in python\n",
        "from sklearn.preprocessing import StandardScaler, OneHotEncoder\n",
        "from sklearn.compose import ColumnTransformer\n",
        "from sklearn.pipeline import Pipeline #automating machine learning workflows\n",
        "from sklearn.metrics import accuracy_score, precision_score, recall_score, f1_score, confusion_matrix\n",
        "from sklearn.tree import DecisionTreeClassifier # Import DecisionTreeClassifier\n",
        "from sklearn.linear_model import LogisticRegression # Import LogisticRegression"
      ],
      "execution_count": 19,
      "outputs": []
    },
    {
      "cell_type": "code",
      "source": [
        "# Identify categorical and numerical columns - using the independent variable training data\n",
        "cat_features = X_train.select_dtypes(include=['object']).columns.tolist()\n",
        "num_features = X_train.select_dtypes(include=np.number).columns.tolist()\n",
        "\n",
        "print(\"Categorical features:\", cat_features)\n",
        "print(\"Numerical features:\", num_features)"
      ],
      "metadata": {
        "id": "6MT7pVTuxS4E",
        "colab": {
          "base_uri": "https://localhost:8080/"
        },
        "outputId": "3f20e3f2-2370-4c32-d158-8c7e6a191e46"
      },
      "execution_count": 9,
      "outputs": [
        {
          "output_type": "stream",
          "name": "stdout",
          "text": [
            "Categorical features: ['Make', 'Model', 'Fuel Type', 'Transmission', 'Owner History']\n",
            "Numerical features: ['Year', 'Price ($)', 'Mileage (km)']\n"
          ]
        }
      ]
    },
    {
      "cell_type": "code",
      "source": [
        "# Creaing the preprocessor a column transformer to apply different transformations to different columns\n",
        "ss = StandardScaler()\n",
        "ohe = OneHotEncoder(handle_unknown='ignore', sparse_output=False)\n",
        "\n",
        "#define what should be done (scale the numerical features, encode the categorical ones to the specified columns)\n",
        "prep = ColumnTransformer(\n",
        "    transformers=[\n",
        "        ('num', ss, num_features),\n",
        "        ('cat', ohe, cat_features)])"
      ],
      "metadata": {
        "id": "GnMfI5i6xaKw"
      },
      "execution_count": 10,
      "outputs": []
    },
    {
      "cell_type": "code",
      "source": [
        "#Fit and transform training dataset - learns mean and std in each cat and scales\n",
        "X_train_processed = prep.fit_transform(X_train)\n",
        "\n",
        "#transform test datset - uses what has been learned from x_train and to scale num features\n",
        "X_test_processed = prep.transform(X_test)\n"
      ],
      "metadata": {
        "id": "pCKexE1dxdnR"
      },
      "execution_count": 11,
      "outputs": []
    },
    {
      "cell_type": "markdown",
      "source": [
        "**Train and Evaluate Classification Algorithms**\n",
        "\n",
        "Compare results of Decision Tree and Logistic Regression.\n",
        "\n",
        "\n",
        "**Evaluation metrics for classification**\n",
        "\n",
        "Evaluate the Decision Tree model using appropriate classification metrics, by calculating accuracy, precision, recall, and F1-score.\n",
        "\n",
        "1. Accuracy → Measures overall correctness of the model.\n",
        "Used when classes are balanced (e.g., 50% sold vs 50% not sold). (TP + TN)/(TP+TN+FP+FN)\n",
        "\n",
        "2. Precision → Measures how many predicted positives were actually correct.\n",
        "Used when false positives are costly (e.g., wrongly telling a customer their car will sell). TP/(TP+FP)\n",
        "\n",
        "3. Recall = Measures how many actual positives were correctly identified.\n",
        "Used when false negatives are costly (e.g., missing cars that would actually sell). TP/(TP+FN)\n",
        "\n",
        "4. F1 Score = Harmonic mean of precision and recall.\n",
        "Used when you need a balance between precision & recall, especially in imbalanced datasets. 2{(precision*Recall)/(Precision+Recall)}"
      ],
      "metadata": {
        "id": "_1hnfA9Ihn6u"
      }
    },
    {
      "cell_type": "code",
      "source": [
        "#Train decision treee - dt\n",
        "dt_model = DecisionTreeClassifier(random_state=42).fit(X_train_processed, y_train)\n",
        "print(\"Decision Tree model trained successfully.\")"
      ],
      "metadata": {
        "id": "YM1DN-x-lqPF",
        "colab": {
          "base_uri": "https://localhost:8080/"
        },
        "outputId": "bcd26834-e2ae-4d19-8edd-ad7f5428781f"
      },
      "execution_count": 14,
      "outputs": [
        {
          "output_type": "stream",
          "name": "stdout",
          "text": [
            "Decision Tree model trained successfully.\n"
          ]
        }
      ]
    },
    {
      "cell_type": "code",
      "source": [
        "# Predict on the test data\n",
        "y_pred_dt = dt_model.predict(X_test_processed)\n",
        "\n",
        "# Calculate evaluation metrics\n",
        "accuracy_dt = accuracy_score(y_test, y_pred_dt)\n",
        "precision_dt = precision_score(y_test, y_pred_dt)\n",
        "recall_dt = recall_score(y_test, y_pred_dt)\n",
        "f1_dt = f1_score(y_test, y_pred_dt)\n",
        "\n",
        "# Print the metrics\n",
        "print(f\"Decision Tree Accuracy: {accuracy_dt:.3f}\")\n",
        "print(f\"Decision Tree Precision: {precision_dt:.3f}\")\n",
        "print(f\"Decision Tree Recall: {recall_dt:.3f}\")\n",
        "print(f\"Decision Tree F1-score: {f1_dt:.3f}\")"
      ],
      "metadata": {
        "id": "Fwj_rETnpuGi",
        "colab": {
          "base_uri": "https://localhost:8080/"
        },
        "outputId": "b3dadbc6-de1c-47ee-b77e-8edab3b686a2"
      },
      "execution_count": 15,
      "outputs": [
        {
          "output_type": "stream",
          "name": "stdout",
          "text": [
            "Decision Tree Accuracy: 0.745\n",
            "Decision Tree Precision: 0.833\n",
            "Decision Tree Recall: 0.625\n",
            "Decision Tree F1-score: 0.714\n"
          ]
        }
      ]
    },
    {
      "cell_type": "code",
      "source": [
        "#Train Logistic Regression lr\n",
        "lr_model = LogisticRegression(random_state=42).fit(X_train_processed, y_train)\n",
        "print(\"Logistic Regression model trained successfully.\")\n"
      ],
      "metadata": {
        "id": "Or58RSG9pLn9",
        "colab": {
          "base_uri": "https://localhost:8080/"
        },
        "outputId": "fe7c4205-54ba-430c-af9d-6b907b2b994b"
      },
      "execution_count": 16,
      "outputs": [
        {
          "output_type": "stream",
          "name": "stdout",
          "text": [
            "Logistic Regression model trained successfully.\n"
          ]
        }
      ]
    },
    {
      "cell_type": "code",
      "source": [
        "#Predict on the test data\n",
        "y_pred_lr = lr_model.predict(X_test_processed)\n",
        "\n",
        "#evaluation\n",
        "accuracy_lr = accuracy_score(y_test, y_pred_lr)\n",
        "precision_lr = precision_score(y_test, y_pred_lr)\n",
        "recall_lr = recall_score(y_test, y_pred_lr)\n",
        "f1_lr = f1_score(y_test, y_pred_lr)\n",
        "\n",
        "# Print the calculated evaluation metrics\n",
        "print(f\"Logistic Regression Accuracy: {accuracy_lr:.4f}\")\n",
        "print(f\"Logistic Regression Precision: {precision_lr:.4f}\")\n",
        "print(f\"Logistic Regression Recall: {recall_lr:.4f}\")\n",
        "print(f\"Logistic Regression F1-score: {f1_lr:.4f}\")"
      ],
      "metadata": {
        "id": "3JS1a8Z9r_oy",
        "colab": {
          "base_uri": "https://localhost:8080/"
        },
        "outputId": "a8eea220-b39e-4240-f650-30fa21234266"
      },
      "execution_count": 17,
      "outputs": [
        {
          "output_type": "stream",
          "name": "stdout",
          "text": [
            "Logistic Regression Accuracy: 0.6596\n",
            "Logistic Regression Precision: 0.6538\n",
            "Logistic Regression Recall: 0.7083\n",
            "Logistic Regression F1-score: 0.6800\n"
          ]
        }
      ]
    },
    {
      "cell_type": "markdown",
      "source": [
        "**Analyze the Confusion Matrix**\n",
        "\n",
        "A Confusion Matrix is a table used to evaluate classification models. It compares the model’s predicted classes against the actual (true) classes.\n",
        "\n",
        "\n",
        "\n"
      ],
      "metadata": {
        "id": "LyJVDUQvtFaX"
      }
    },
    {
      "cell_type": "code",
      "source": [
        "#Subplots of Decision tree and Logistic Regression confusion matrix\n",
        "fig,(ax1,ax2) = plt.subplots(1,2,figsize=(10,5))\n",
        "\n",
        "#Calculate confusion matrix (cm) for Decision tree and Logistic Regression\n",
        "dt_cm = confusion_matrix(y_test, y_pred_dt)\n",
        "lr_cm = confusion_matrix(y_test, y_pred_lr)\n",
        "\n",
        "#subplot of Decision Tree\n",
        "sns.heatmap(dt_cm, annot=True, fmt='d', cmap='Blues', ax=ax1, xticklabels=['No', 'Yes'], yticklabels=['No', 'Yes'])\n",
        "ax1.set_xlabel('Predicted label')\n",
        "ax1.set_ylabel('Actual label')\n",
        "ax1.set_title('Confusion Matrix - Decision Tree')\n",
        "\n",
        "#subplot of Logistic Regression\n",
        "sns.heatmap(lr_cm, annot=True, fmt='d', cmap='Reds', ax=ax2, xticklabels=['No', 'Yes'], yticklabels=['No', 'Yes'])\n",
        "ax2.set_xlabel('Predicted label')\n",
        "ax2.set_ylabel('Actual label')\n",
        "ax2.set_title('Confusion Matrix - Logistic Regression')\n",
        "\n",
        "plt.tight_layout()\n",
        "plt.show()"
      ],
      "metadata": {
        "id": "5wc7B3SBxg_Z",
        "colab": {
          "base_uri": "https://localhost:8080/",
          "height": 507
        },
        "outputId": "6a3e75ef-2acf-4745-8449-ce5839005aaf"
      },
      "execution_count": 20,
      "outputs": [
        {
          "output_type": "display_data",
          "data": {
            "text/plain": [
              "<Figure size 1000x500 with 4 Axes>"
            ],
            "image/png": "[encoded data removed]"
          },
          "metadata": {}
        }
      ]
    },
    {
      "cell_type": "markdown",
      "metadata": {
        "id": "583ac14b"
      },
      "source": [
        "## Compare prediction performance of the models with unseen data\n",
        "\n"
      ]
    },
    {
      "cell_type": "code",
      "metadata": {
        "id": "683b13a3",
        "colab": {
          "base_uri": "https://localhost:8080/"
        },
        "outputId": "9e2b4cfa-1b33-4d88-963c-a43575bfd7db"
      },
      "source": [
        "# Create a DataFrame to compare actual vs. predicted values\n",
        "# The index of y_test corresponds to the original row indices from the 'cars' DataFrame\n",
        "comparison_df = pd.DataFrame({\n",
        "    'Actual_Sold': y_test, # The true values from the test set\n",
        "    'dt_Prediction': y_pred_dt, # Decision Tree predictions\n",
        "    'lr_Prediction': y_pred_lr  # Logistic Regression predictions\n",
        "})\n",
        "\n",
        "print(comparison_df.head(10))"
      ],
      "execution_count": 21,
      "outputs": [
        {
          "output_type": "stream",
          "name": "stdout",
          "text": [
            "     Actual_Sold  dt_Prediction  lr_Prediction\n",
            "39             0              0              0\n",
            "68             1              0              0\n",
            "51             0              0              1\n",
            "129            1              1              1\n",
            "130            1              1              0\n",
            "194            1              1              1\n",
            "165            1              1              1\n",
            "19             1              0              1\n",
            "80             1              1              0\n",
            "217            0              0              1\n"
          ]
        }
      ]
    },
    {
      "cell_type": "markdown",
      "source": [
        "**Analyze the agreements and disagreements** between the Decision Tree and Logistic Regression models, determine which model performs better, and explain the reasons for the difference in performance.\n",
        "\n",
        "**Identify agreements and disagreements**\n",
        "\n",
        "Compare the 'Decision Tree Prediction' and 'Logistic Regression Prediction' columns in the comparison_df to find rows where the models agree and disagree."
      ],
      "metadata": {
        "id": "WMB0ocyAYR1C"
      }
    },
    {
      "cell_type": "code",
      "source": [],
      "metadata": {
        "id": "DJfeEu1ZX-_S"
      },
      "execution_count": 21,
      "outputs": []
    },
    {
      "cell_type": "markdown",
      "source": [
        "**Analyze disagreements**\n",
        "\n",
        "Examine the rows where the models disagree and see which model's prediction is correct by comparing it to the 'Actual' column."
      ],
      "metadata": {
        "id": "eEZkgKqFYdS2"
      }
    }
  ]
}