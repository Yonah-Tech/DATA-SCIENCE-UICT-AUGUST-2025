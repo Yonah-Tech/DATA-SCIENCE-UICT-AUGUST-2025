{
  "nbformat": 4,
  "nbformat_minor": 0,
  "metadata": {
    "colab": {
      "provenance": [],
      "authorship_tag": "ABX9TyMPCF7L+cjO3yfifrB1y4pJ",
      "include_colab_link": true
    },
    "kernelspec": {
      "name": "python3",
      "display_name": "Python 3"
    },
    "language_info": {
      "name": "python"
    }
  },
  "cells": [
    {
      "cell_type": "markdown",
      "metadata": {
        "id": "view-in-github",
        "colab_type": "text"
      },
      "source": [
        "<a href=\"https://colab.research.google.com/github/Yonah-Tech/DATA-SCIENCE-UICT-AUGUST-2025/blob/main/Data_Science_Lecture_2.ipynb\" target=\"_parent\"><img src=\"https://colab.research.google.com/assets/colab-badge.svg\" alt=\"Open In Colab\"/></a>"
      ]
    },
    {
      "cell_type": "code",
      "source": [
        "name = input(\"What is your first name: \")\n",
        "print(name)"
      ],
      "metadata": {
        "colab": {
          "base_uri": "https://localhost:8080/"
        },
        "id": "NQcH0PMgZ6tN",
        "outputId": "6c6c9371-b554-4c75-df96-47aadc7fd412"
      },
      "execution_count": 1,
      "outputs": [
        {
          "output_type": "stream",
          "name": "stdout",
          "text": [
            "What is your first name: Odongkara Yonah\n",
            "Odongkara Yonah\n"
          ]
        }
      ]
    },
    {
      "cell_type": "code",
      "source": [
        "a = 55\n",
        "print(a)\n",
        "\n",
        "b = 0.34\n",
        "print(a,b)"
      ],
      "metadata": {
        "colab": {
          "base_uri": "https://localhost:8080/"
        },
        "id": "0VcoOskEbhgN",
        "outputId": "8b1d90a3-3f4b-4496-ddd9-b41d6fb4041a"
      },
      "execution_count": 4,
      "outputs": [
        {
          "output_type": "stream",
          "name": "stdout",
          "text": [
            "55\n",
            "55 0.34\n"
          ]
        }
      ]
    },
    {
      "cell_type": "code",
      "source": [
        "c = 42\n",
        "d = 55\n",
        "print(c+d)"
      ],
      "metadata": {
        "colab": {
          "base_uri": "https://localhost:8080/"
        },
        "id": "7QJKAS6Vc7YA",
        "outputId": "b2191325-3252-4eec-941e-85580defea13"
      },
      "execution_count": 5,
      "outputs": [
        {
          "output_type": "stream",
          "name": "stdout",
          "text": [
            "97\n"
          ]
        }
      ]
    },
    {
      "cell_type": "code",
      "source": [
        "g = c+d\n",
        "print(g)"
      ],
      "metadata": {
        "colab": {
          "base_uri": "https://localhost:8080/"
        },
        "id": "-ctPBhnTdKe4",
        "outputId": "3263ce23-fa89-40e3-de0b-c0703ed6b228"
      },
      "execution_count": 6,
      "outputs": [
        {
          "output_type": "stream",
          "name": "stdout",
          "text": [
            "97\n"
          ]
        }
      ]
    },
    {
      "cell_type": "code",
      "source": [
        "num1 = input((\"First Number\"))\n",
        "num2 = input((\"Second Number\"))\n",
        "Difference = num1-num2\\\n",
        "print(Difference)"
      ],
      "metadata": {
        "colab": {
          "base_uri": "https://localhost:8080/"
        },
        "id": "1W4AdCjQj8Ud",
        "outputId": "ede9db93-3b59-4d0c-9da5-53e8bf81180f"
      },
      "execution_count": 20,
      "outputs": [
        {
          "output_type": "stream",
          "name": "stdout",
          "text": [
            "First Number8\n",
            "Second Number6\n",
            "2\n"
          ]
        }
      ]
    },
    {
      "cell_type": "code",
      "source": [
        "student = (\"Yonah Odongkara\")\n",
        "print(student)"
      ],
      "metadata": {
        "colab": {
          "base_uri": "https://localhost:8080/"
        },
        "id": "YV2wSxBJlb6t",
        "outputId": "2fe9f833-6b21-496c-90c5-b95a0237fb53"
      },
      "execution_count": 13,
      "outputs": [
        {
          "output_type": "stream",
          "name": "stdout",
          "text": [
            "Yonah Odongkara\n"
          ]
        }
      ]
    },
    {
      "cell_type": "code",
      "source": [
        "#String functions, uppercase, lowercase, capitalize\n",
        "student.upper\n",
        "print(student.upper())\n",
        "student.capitalize\n",
        "print(student.capitalize())\n",
        "student.lower\n",
        "print(student.lower())\n"
      ],
      "metadata": {
        "colab": {
          "base_uri": "https://localhost:8080/"
        },
        "id": "RGJz4AU8lyaE",
        "outputId": "3bd6bfe7-9beb-44ba-c59d-7f6e20747fb9"
      },
      "execution_count": 21,
      "outputs": [
        {
          "output_type": "stream",
          "name": "stdout",
          "text": [
            "YONAH ODONGKARA\n",
            "Yonah odongkara\n",
            "yonah odongkara\n"
          ]
        }
      ]
    },
    {
      "cell_type": "code",
      "source": [
        "color = 'purple'\n",
        "car = 'BMW'\n",
        "print(f'Odongkara wants a {color} {car}')\n"
      ],
      "metadata": {
        "colab": {
          "base_uri": "https://localhost:8080/"
        },
        "id": "V9RC7wbEwhrp",
        "outputId": "30212d7b-ae0e-4d50-e2e5-b724632062f0"
      },
      "execution_count": 22,
      "outputs": [
        {
          "output_type": "stream",
          "name": "stdout",
          "text": [
            "Odongkara wants a purple BMW\n"
          ]
        }
      ]
    },
    {
      "cell_type": "markdown",
      "source": [
        "DATA STRUCTURES"
      ],
      "metadata": {
        "id": "JpnHkYF01Il9"
      }
    },
    {
      "cell_type": "code",
      "source": [
        "#LISTS\n",
        "#Length of Lists\n",
        "cars = ['Benz','Subaru', 'Ist', 'Land Cruiser']\n",
        "print(cars)\n",
        "\n",
        "print(len(cars))\n"
      ],
      "metadata": {
        "colab": {
          "base_uri": "https://localhost:8080/"
        },
        "id": "I6WUoDtc1HYo",
        "outputId": "99a2e133-bee6-4a37-fb42-ded99ab4a29d"
      },
      "execution_count": 25,
      "outputs": [
        {
          "output_type": "stream",
          "name": "stdout",
          "text": [
            "['Benz', 'Subaru', 'Ist', 'Land Cruiser']\n",
            "4\n"
          ]
        }
      ]
    },
    {
      "cell_type": "code",
      "source": [
        "#Append\n",
        "cars.append('Toyota')\n",
        "print(cars)\n",
        "#Extend\n",
        "cars.extend(['Kia', 'Honda'])\n",
        "print(cars)"
      ],
      "metadata": {
        "colab": {
          "base_uri": "https://localhost:8080/"
        },
        "id": "fGBh5DYK2MTE",
        "outputId": "ddac122f-34a9-42db-bcd0-d0f0e3a0eb57"
      },
      "execution_count": 41,
      "outputs": [
        {
          "output_type": "stream",
          "name": "stdout",
          "text": [
            "['Subaru', 'Toyota', 'Toyota']\n",
            "['Subaru', 'Toyota', 'Toyota', 'Kia', 'Honda']\n"
          ]
        }
      ]
    },
    {
      "cell_type": "code",
      "source": [
        "#Sort; Ascending Order\n",
        "cars.sort()\n",
        "print(cars)"
      ],
      "metadata": {
        "colab": {
          "base_uri": "https://localhost:8080/"
        },
        "id": "gpjArXH12c8G",
        "outputId": "91616675-3cfa-4f42-8de9-c59422c0a52c"
      },
      "execution_count": 27,
      "outputs": [
        {
          "output_type": "stream",
          "name": "stdout",
          "text": [
            "['Benz', 'Ist', 'Land Cruiser', 'Subaru', 'Toyota']\n"
          ]
        }
      ]
    },
    {
      "cell_type": "code",
      "source": [
        "#Indexing\n",
        "print(cars[2])\n",
        "print(cars[0])\n",
        "print(cars[1])"
      ],
      "metadata": {
        "colab": {
          "base_uri": "https://localhost:8080/"
        },
        "id": "H5fCxPwD2uhr",
        "outputId": "7c472c29-2a10-49fb-e353-da82f93a1abd"
      },
      "execution_count": 32,
      "outputs": [
        {
          "output_type": "stream",
          "name": "stdout",
          "text": [
            "Land Cruiser\n",
            "Benz\n",
            "Ist\n"
          ]
        }
      ]
    },
    {
      "cell_type": "code",
      "source": [
        "#Removing\n",
        "cars.remove('Ist')\n",
        "print(cars)"
      ],
      "metadata": {
        "colab": {
          "base_uri": "https://localhost:8080/"
        },
        "id": "V180v9qx29rn",
        "outputId": "af1d79c7-2afe-4303-f841-84a28e7f901d"
      },
      "execution_count": 39,
      "outputs": [
        {
          "output_type": "stream",
          "name": "stdout",
          "text": [
            "['Benz', 'Subaru', 'Toyota']\n"
          ]
        }
      ]
    },
    {
      "cell_type": "code",
      "source": [
        "del cars[0]\n",
        "print(cars)"
      ],
      "metadata": {
        "colab": {
          "base_uri": "https://localhost:8080/"
        },
        "id": "GxSGTeGe6g7R",
        "outputId": "75a981d8-ca06-4594-a4b3-6b464169e55d"
      },
      "execution_count": 40,
      "outputs": [
        {
          "output_type": "stream",
          "name": "stdout",
          "text": [
            "['Subaru', 'Toyota']\n"
          ]
        }
      ]
    },
    {
      "cell_type": "code",
      "source": [
        "#Slicing: Returns a portion of the list through indexing\n",
        "print(cars[0:2])"
      ],
      "metadata": {
        "colab": {
          "base_uri": "https://localhost:8080/"
        },
        "id": "2aD4y5Ww3C_-",
        "outputId": "f8d5effa-deb1-48f2-ad61-4f148ab57966"
      },
      "execution_count": 34,
      "outputs": [
        {
          "output_type": "stream",
          "name": "stdout",
          "text": [
            "['Benz', 'Ist']\n"
          ]
        }
      ]
    },
    {
      "cell_type": "code",
      "source": [
        "#Insert\n",
        "cars.insert(0,'Toyota')\n",
        "print(cars)"
      ],
      "metadata": {
        "colab": {
          "base_uri": "https://localhost:8080/"
        },
        "id": "cTSRvjoL7iiv",
        "outputId": "5e2b5e4d-5813-4b83-b526-17d35a5bc004"
      },
      "execution_count": 42,
      "outputs": [
        {
          "output_type": "stream",
          "name": "stdout",
          "text": [
            "['Toyota', 'Subaru', 'Toyota', 'Toyota', 'Kia', 'Honda']\n"
          ]
        }
      ]
    }
  ]
}